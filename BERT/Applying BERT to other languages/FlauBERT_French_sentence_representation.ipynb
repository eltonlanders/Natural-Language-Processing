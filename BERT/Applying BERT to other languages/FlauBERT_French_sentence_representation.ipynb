{
  "nbformat": 4,
  "nbformat_minor": 0,
  "metadata": {
    "colab": {
      "name": "FlauBERT French sentence representation.ipynb",
      "provenance": []
    },
    "kernelspec": {
      "name": "python3",
      "display_name": "Python 3"
    },
    "language_info": {
      "name": "python"
    },
    "accelerator": "GPU",
    "widgets": {
      "application/vnd.jupyter.widget-state+json": {
        "ef9d8a23e8834b7184288da1f53e67a2": {
          "model_module": "@jupyter-widgets/controls",
          "model_name": "HBoxModel",
          "state": {
            "_view_name": "HBoxView",
            "_dom_classes": [],
            "_model_name": "HBoxModel",
            "_view_module": "@jupyter-widgets/controls",
            "_model_module_version": "1.5.0",
            "_view_count": null,
            "_view_module_version": "1.5.0",
            "box_style": "",
            "layout": "IPY_MODEL_14a3626127224d1ca2bfb5a493abb8d4",
            "_model_module": "@jupyter-widgets/controls",
            "children": [
              "IPY_MODEL_02edb9b6c8d94dfa9b768eab6939653e",
              "IPY_MODEL_c25a5b48a8f4439da73ae07fdd8f03bd"
            ]
          }
        },
        "14a3626127224d1ca2bfb5a493abb8d4": {
          "model_module": "@jupyter-widgets/base",
          "model_name": "LayoutModel",
          "state": {
            "_view_name": "LayoutView",
            "grid_template_rows": null,
            "right": null,
            "justify_content": null,
            "_view_module": "@jupyter-widgets/base",
            "overflow": null,
            "_model_module_version": "1.2.0",
            "_view_count": null,
            "flex_flow": null,
            "width": null,
            "min_width": null,
            "border": null,
            "align_items": null,
            "bottom": null,
            "_model_module": "@jupyter-widgets/base",
            "top": null,
            "grid_column": null,
            "overflow_y": null,
            "overflow_x": null,
            "grid_auto_flow": null,
            "grid_area": null,
            "grid_template_columns": null,
            "flex": null,
            "_model_name": "LayoutModel",
            "justify_items": null,
            "grid_row": null,
            "max_height": null,
            "align_content": null,
            "visibility": null,
            "align_self": null,
            "height": null,
            "min_height": null,
            "padding": null,
            "grid_auto_rows": null,
            "grid_gap": null,
            "max_width": null,
            "order": null,
            "_view_module_version": "1.2.0",
            "grid_template_areas": null,
            "object_position": null,
            "object_fit": null,
            "grid_auto_columns": null,
            "margin": null,
            "display": null,
            "left": null
          }
        },
        "02edb9b6c8d94dfa9b768eab6939653e": {
          "model_module": "@jupyter-widgets/controls",
          "model_name": "FloatProgressModel",
          "state": {
            "_view_name": "ProgressView",
            "style": "IPY_MODEL_c71ef885d3f6487a8db660b45804d65e",
            "_dom_classes": [],
            "description": "Downloading: 100%",
            "_model_name": "FloatProgressModel",
            "bar_style": "success",
            "max": 1496,
            "_view_module": "@jupyter-widgets/controls",
            "_model_module_version": "1.5.0",
            "value": 1496,
            "_view_count": null,
            "_view_module_version": "1.5.0",
            "orientation": "horizontal",
            "min": 0,
            "description_tooltip": null,
            "_model_module": "@jupyter-widgets/controls",
            "layout": "IPY_MODEL_a51e627b324147db89e59badc186e2cb"
          }
        },
        "c25a5b48a8f4439da73ae07fdd8f03bd": {
          "model_module": "@jupyter-widgets/controls",
          "model_name": "HTMLModel",
          "state": {
            "_view_name": "HTMLView",
            "style": "IPY_MODEL_f0f9eeddd5ed4e06af41cff252d6cea1",
            "_dom_classes": [],
            "description": "",
            "_model_name": "HTMLModel",
            "placeholder": "​",
            "_view_module": "@jupyter-widgets/controls",
            "_model_module_version": "1.5.0",
            "value": " 1.50k/1.50k [00:17&lt;00:00, 83.4B/s]",
            "_view_count": null,
            "_view_module_version": "1.5.0",
            "description_tooltip": null,
            "_model_module": "@jupyter-widgets/controls",
            "layout": "IPY_MODEL_1c9b7355f3de49f8a2981c6019723932"
          }
        },
        "c71ef885d3f6487a8db660b45804d65e": {
          "model_module": "@jupyter-widgets/controls",
          "model_name": "ProgressStyleModel",
          "state": {
            "_view_name": "StyleView",
            "_model_name": "ProgressStyleModel",
            "description_width": "initial",
            "_view_module": "@jupyter-widgets/base",
            "_model_module_version": "1.5.0",
            "_view_count": null,
            "_view_module_version": "1.2.0",
            "bar_color": null,
            "_model_module": "@jupyter-widgets/controls"
          }
        },
        "a51e627b324147db89e59badc186e2cb": {
          "model_module": "@jupyter-widgets/base",
          "model_name": "LayoutModel",
          "state": {
            "_view_name": "LayoutView",
            "grid_template_rows": null,
            "right": null,
            "justify_content": null,
            "_view_module": "@jupyter-widgets/base",
            "overflow": null,
            "_model_module_version": "1.2.0",
            "_view_count": null,
            "flex_flow": null,
            "width": null,
            "min_width": null,
            "border": null,
            "align_items": null,
            "bottom": null,
            "_model_module": "@jupyter-widgets/base",
            "top": null,
            "grid_column": null,
            "overflow_y": null,
            "overflow_x": null,
            "grid_auto_flow": null,
            "grid_area": null,
            "grid_template_columns": null,
            "flex": null,
            "_model_name": "LayoutModel",
            "justify_items": null,
            "grid_row": null,
            "max_height": null,
            "align_content": null,
            "visibility": null,
            "align_self": null,
            "height": null,
            "min_height": null,
            "padding": null,
            "grid_auto_rows": null,
            "grid_gap": null,
            "max_width": null,
            "order": null,
            "_view_module_version": "1.2.0",
            "grid_template_areas": null,
            "object_position": null,
            "object_fit": null,
            "grid_auto_columns": null,
            "margin": null,
            "display": null,
            "left": null
          }
        },
        "f0f9eeddd5ed4e06af41cff252d6cea1": {
          "model_module": "@jupyter-widgets/controls",
          "model_name": "DescriptionStyleModel",
          "state": {
            "_view_name": "StyleView",
            "_model_name": "DescriptionStyleModel",
            "description_width": "",
            "_view_module": "@jupyter-widgets/base",
            "_model_module_version": "1.5.0",
            "_view_count": null,
            "_view_module_version": "1.2.0",
            "_model_module": "@jupyter-widgets/controls"
          }
        },
        "1c9b7355f3de49f8a2981c6019723932": {
          "model_module": "@jupyter-widgets/base",
          "model_name": "LayoutModel",
          "state": {
            "_view_name": "LayoutView",
            "grid_template_rows": null,
            "right": null,
            "justify_content": null,
            "_view_module": "@jupyter-widgets/base",
            "overflow": null,
            "_model_module_version": "1.2.0",
            "_view_count": null,
            "flex_flow": null,
            "width": null,
            "min_width": null,
            "border": null,
            "align_items": null,
            "bottom": null,
            "_model_module": "@jupyter-widgets/base",
            "top": null,
            "grid_column": null,
            "overflow_y": null,
            "overflow_x": null,
            "grid_auto_flow": null,
            "grid_area": null,
            "grid_template_columns": null,
            "flex": null,
            "_model_name": "LayoutModel",
            "justify_items": null,
            "grid_row": null,
            "max_height": null,
            "align_content": null,
            "visibility": null,
            "align_self": null,
            "height": null,
            "min_height": null,
            "padding": null,
            "grid_auto_rows": null,
            "grid_gap": null,
            "max_width": null,
            "order": null,
            "_view_module_version": "1.2.0",
            "grid_template_areas": null,
            "object_position": null,
            "object_fit": null,
            "grid_auto_columns": null,
            "margin": null,
            "display": null,
            "left": null
          }
        },
        "9b406335ee914de38164aaee36644302": {
          "model_module": "@jupyter-widgets/controls",
          "model_name": "HBoxModel",
          "state": {
            "_view_name": "HBoxView",
            "_dom_classes": [],
            "_model_name": "HBoxModel",
            "_view_module": "@jupyter-widgets/controls",
            "_model_module_version": "1.5.0",
            "_view_count": null,
            "_view_module_version": "1.5.0",
            "box_style": "",
            "layout": "IPY_MODEL_28580c02ec124d88904f2f4a3205038b",
            "_model_module": "@jupyter-widgets/controls",
            "children": [
              "IPY_MODEL_f3f3dbe35e0e49d5bae292cba54b5400",
              "IPY_MODEL_5ae9c96a29074a80a79a6bfe695dc777"
            ]
          }
        },
        "28580c02ec124d88904f2f4a3205038b": {
          "model_module": "@jupyter-widgets/base",
          "model_name": "LayoutModel",
          "state": {
            "_view_name": "LayoutView",
            "grid_template_rows": null,
            "right": null,
            "justify_content": null,
            "_view_module": "@jupyter-widgets/base",
            "overflow": null,
            "_model_module_version": "1.2.0",
            "_view_count": null,
            "flex_flow": null,
            "width": null,
            "min_width": null,
            "border": null,
            "align_items": null,
            "bottom": null,
            "_model_module": "@jupyter-widgets/base",
            "top": null,
            "grid_column": null,
            "overflow_y": null,
            "overflow_x": null,
            "grid_auto_flow": null,
            "grid_area": null,
            "grid_template_columns": null,
            "flex": null,
            "_model_name": "LayoutModel",
            "justify_items": null,
            "grid_row": null,
            "max_height": null,
            "align_content": null,
            "visibility": null,
            "align_self": null,
            "height": null,
            "min_height": null,
            "padding": null,
            "grid_auto_rows": null,
            "grid_gap": null,
            "max_width": null,
            "order": null,
            "_view_module_version": "1.2.0",
            "grid_template_areas": null,
            "object_position": null,
            "object_fit": null,
            "grid_auto_columns": null,
            "margin": null,
            "display": null,
            "left": null
          }
        },
        "f3f3dbe35e0e49d5bae292cba54b5400": {
          "model_module": "@jupyter-widgets/controls",
          "model_name": "FloatProgressModel",
          "state": {
            "_view_name": "ProgressView",
            "style": "IPY_MODEL_ffb8b076ccef424a8755657ed9b6fed3",
            "_dom_classes": [],
            "description": "Downloading: 100%",
            "_model_name": "FloatProgressModel",
            "bar_style": "success",
            "max": 553238687,
            "_view_module": "@jupyter-widgets/controls",
            "_model_module_version": "1.5.0",
            "value": 553238687,
            "_view_count": null,
            "_view_module_version": "1.5.0",
            "orientation": "horizontal",
            "min": 0,
            "description_tooltip": null,
            "_model_module": "@jupyter-widgets/controls",
            "layout": "IPY_MODEL_c7dfafaa458444428c8eb3cd47010c70"
          }
        },
        "5ae9c96a29074a80a79a6bfe695dc777": {
          "model_module": "@jupyter-widgets/controls",
          "model_name": "HTMLModel",
          "state": {
            "_view_name": "HTMLView",
            "style": "IPY_MODEL_96061a16696e43529eac63e6e3d3c601",
            "_dom_classes": [],
            "description": "",
            "_model_name": "HTMLModel",
            "placeholder": "​",
            "_view_module": "@jupyter-widgets/controls",
            "_model_module_version": "1.5.0",
            "value": " 553M/553M [00:17&lt;00:00, 31.6MB/s]",
            "_view_count": null,
            "_view_module_version": "1.5.0",
            "description_tooltip": null,
            "_model_module": "@jupyter-widgets/controls",
            "layout": "IPY_MODEL_75b29fefca1d436d95d4f8d542f92da1"
          }
        },
        "ffb8b076ccef424a8755657ed9b6fed3": {
          "model_module": "@jupyter-widgets/controls",
          "model_name": "ProgressStyleModel",
          "state": {
            "_view_name": "StyleView",
            "_model_name": "ProgressStyleModel",
            "description_width": "initial",
            "_view_module": "@jupyter-widgets/base",
            "_model_module_version": "1.5.0",
            "_view_count": null,
            "_view_module_version": "1.2.0",
            "bar_color": null,
            "_model_module": "@jupyter-widgets/controls"
          }
        },
        "c7dfafaa458444428c8eb3cd47010c70": {
          "model_module": "@jupyter-widgets/base",
          "model_name": "LayoutModel",
          "state": {
            "_view_name": "LayoutView",
            "grid_template_rows": null,
            "right": null,
            "justify_content": null,
            "_view_module": "@jupyter-widgets/base",
            "overflow": null,
            "_model_module_version": "1.2.0",
            "_view_count": null,
            "flex_flow": null,
            "width": null,
            "min_width": null,
            "border": null,
            "align_items": null,
            "bottom": null,
            "_model_module": "@jupyter-widgets/base",
            "top": null,
            "grid_column": null,
            "overflow_y": null,
            "overflow_x": null,
            "grid_auto_flow": null,
            "grid_area": null,
            "grid_template_columns": null,
            "flex": null,
            "_model_name": "LayoutModel",
            "justify_items": null,
            "grid_row": null,
            "max_height": null,
            "align_content": null,
            "visibility": null,
            "align_self": null,
            "height": null,
            "min_height": null,
            "padding": null,
            "grid_auto_rows": null,
            "grid_gap": null,
            "max_width": null,
            "order": null,
            "_view_module_version": "1.2.0",
            "grid_template_areas": null,
            "object_position": null,
            "object_fit": null,
            "grid_auto_columns": null,
            "margin": null,
            "display": null,
            "left": null
          }
        },
        "96061a16696e43529eac63e6e3d3c601": {
          "model_module": "@jupyter-widgets/controls",
          "model_name": "DescriptionStyleModel",
          "state": {
            "_view_name": "StyleView",
            "_model_name": "DescriptionStyleModel",
            "description_width": "",
            "_view_module": "@jupyter-widgets/base",
            "_model_module_version": "1.5.0",
            "_view_count": null,
            "_view_module_version": "1.2.0",
            "_model_module": "@jupyter-widgets/controls"
          }
        },
        "75b29fefca1d436d95d4f8d542f92da1": {
          "model_module": "@jupyter-widgets/base",
          "model_name": "LayoutModel",
          "state": {
            "_view_name": "LayoutView",
            "grid_template_rows": null,
            "right": null,
            "justify_content": null,
            "_view_module": "@jupyter-widgets/base",
            "overflow": null,
            "_model_module_version": "1.2.0",
            "_view_count": null,
            "flex_flow": null,
            "width": null,
            "min_width": null,
            "border": null,
            "align_items": null,
            "bottom": null,
            "_model_module": "@jupyter-widgets/base",
            "top": null,
            "grid_column": null,
            "overflow_y": null,
            "overflow_x": null,
            "grid_auto_flow": null,
            "grid_area": null,
            "grid_template_columns": null,
            "flex": null,
            "_model_name": "LayoutModel",
            "justify_items": null,
            "grid_row": null,
            "max_height": null,
            "align_content": null,
            "visibility": null,
            "align_self": null,
            "height": null,
            "min_height": null,
            "padding": null,
            "grid_auto_rows": null,
            "grid_gap": null,
            "max_width": null,
            "order": null,
            "_view_module_version": "1.2.0",
            "grid_template_areas": null,
            "object_position": null,
            "object_fit": null,
            "grid_auto_columns": null,
            "margin": null,
            "display": null,
            "left": null
          }
        },
        "9c77e25cbad1460793fd04c588ec88aa": {
          "model_module": "@jupyter-widgets/controls",
          "model_name": "HBoxModel",
          "state": {
            "_view_name": "HBoxView",
            "_dom_classes": [],
            "_model_name": "HBoxModel",
            "_view_module": "@jupyter-widgets/controls",
            "_model_module_version": "1.5.0",
            "_view_count": null,
            "_view_module_version": "1.5.0",
            "box_style": "",
            "layout": "IPY_MODEL_333f0453cd7d444c812b13369c41ee03",
            "_model_module": "@jupyter-widgets/controls",
            "children": [
              "IPY_MODEL_6e1d42ce70e14d31a469f893dc3a2f01",
              "IPY_MODEL_37a2bd5d660140e3b398d723c5050314"
            ]
          }
        },
        "333f0453cd7d444c812b13369c41ee03": {
          "model_module": "@jupyter-widgets/base",
          "model_name": "LayoutModel",
          "state": {
            "_view_name": "LayoutView",
            "grid_template_rows": null,
            "right": null,
            "justify_content": null,
            "_view_module": "@jupyter-widgets/base",
            "overflow": null,
            "_model_module_version": "1.2.0",
            "_view_count": null,
            "flex_flow": null,
            "width": null,
            "min_width": null,
            "border": null,
            "align_items": null,
            "bottom": null,
            "_model_module": "@jupyter-widgets/base",
            "top": null,
            "grid_column": null,
            "overflow_y": null,
            "overflow_x": null,
            "grid_auto_flow": null,
            "grid_area": null,
            "grid_template_columns": null,
            "flex": null,
            "_model_name": "LayoutModel",
            "justify_items": null,
            "grid_row": null,
            "max_height": null,
            "align_content": null,
            "visibility": null,
            "align_self": null,
            "height": null,
            "min_height": null,
            "padding": null,
            "grid_auto_rows": null,
            "grid_gap": null,
            "max_width": null,
            "order": null,
            "_view_module_version": "1.2.0",
            "grid_template_areas": null,
            "object_position": null,
            "object_fit": null,
            "grid_auto_columns": null,
            "margin": null,
            "display": null,
            "left": null
          }
        },
        "6e1d42ce70e14d31a469f893dc3a2f01": {
          "model_module": "@jupyter-widgets/controls",
          "model_name": "FloatProgressModel",
          "state": {
            "_view_name": "ProgressView",
            "style": "IPY_MODEL_b3ee5121ce584cfaa50973bb1e16bba2",
            "_dom_classes": [],
            "description": "Downloading: 100%",
            "_model_name": "FloatProgressModel",
            "bar_style": "success",
            "max": 1561415,
            "_view_module": "@jupyter-widgets/controls",
            "_model_module_version": "1.5.0",
            "value": 1561415,
            "_view_count": null,
            "_view_module_version": "1.5.0",
            "orientation": "horizontal",
            "min": 0,
            "description_tooltip": null,
            "_model_module": "@jupyter-widgets/controls",
            "layout": "IPY_MODEL_804819dbe752425b8ef08d2b9de58029"
          }
        },
        "37a2bd5d660140e3b398d723c5050314": {
          "model_module": "@jupyter-widgets/controls",
          "model_name": "HTMLModel",
          "state": {
            "_view_name": "HTMLView",
            "style": "IPY_MODEL_fab1a697e5e347199d028fe19b7bfcf8",
            "_dom_classes": [],
            "description": "",
            "_model_name": "HTMLModel",
            "placeholder": "​",
            "_view_module": "@jupyter-widgets/controls",
            "_model_module_version": "1.5.0",
            "value": " 1.56M/1.56M [00:00&lt;00:00, 4.85MB/s]",
            "_view_count": null,
            "_view_module_version": "1.5.0",
            "description_tooltip": null,
            "_model_module": "@jupyter-widgets/controls",
            "layout": "IPY_MODEL_1eb745d937b344abb7ce745610f62103"
          }
        },
        "b3ee5121ce584cfaa50973bb1e16bba2": {
          "model_module": "@jupyter-widgets/controls",
          "model_name": "ProgressStyleModel",
          "state": {
            "_view_name": "StyleView",
            "_model_name": "ProgressStyleModel",
            "description_width": "initial",
            "_view_module": "@jupyter-widgets/base",
            "_model_module_version": "1.5.0",
            "_view_count": null,
            "_view_module_version": "1.2.0",
            "bar_color": null,
            "_model_module": "@jupyter-widgets/controls"
          }
        },
        "804819dbe752425b8ef08d2b9de58029": {
          "model_module": "@jupyter-widgets/base",
          "model_name": "LayoutModel",
          "state": {
            "_view_name": "LayoutView",
            "grid_template_rows": null,
            "right": null,
            "justify_content": null,
            "_view_module": "@jupyter-widgets/base",
            "overflow": null,
            "_model_module_version": "1.2.0",
            "_view_count": null,
            "flex_flow": null,
            "width": null,
            "min_width": null,
            "border": null,
            "align_items": null,
            "bottom": null,
            "_model_module": "@jupyter-widgets/base",
            "top": null,
            "grid_column": null,
            "overflow_y": null,
            "overflow_x": null,
            "grid_auto_flow": null,
            "grid_area": null,
            "grid_template_columns": null,
            "flex": null,
            "_model_name": "LayoutModel",
            "justify_items": null,
            "grid_row": null,
            "max_height": null,
            "align_content": null,
            "visibility": null,
            "align_self": null,
            "height": null,
            "min_height": null,
            "padding": null,
            "grid_auto_rows": null,
            "grid_gap": null,
            "max_width": null,
            "order": null,
            "_view_module_version": "1.2.0",
            "grid_template_areas": null,
            "object_position": null,
            "object_fit": null,
            "grid_auto_columns": null,
            "margin": null,
            "display": null,
            "left": null
          }
        },
        "fab1a697e5e347199d028fe19b7bfcf8": {
          "model_module": "@jupyter-widgets/controls",
          "model_name": "DescriptionStyleModel",
          "state": {
            "_view_name": "StyleView",
            "_model_name": "DescriptionStyleModel",
            "description_width": "",
            "_view_module": "@jupyter-widgets/base",
            "_model_module_version": "1.5.0",
            "_view_count": null,
            "_view_module_version": "1.2.0",
            "_model_module": "@jupyter-widgets/controls"
          }
        },
        "1eb745d937b344abb7ce745610f62103": {
          "model_module": "@jupyter-widgets/base",
          "model_name": "LayoutModel",
          "state": {
            "_view_name": "LayoutView",
            "grid_template_rows": null,
            "right": null,
            "justify_content": null,
            "_view_module": "@jupyter-widgets/base",
            "overflow": null,
            "_model_module_version": "1.2.0",
            "_view_count": null,
            "flex_flow": null,
            "width": null,
            "min_width": null,
            "border": null,
            "align_items": null,
            "bottom": null,
            "_model_module": "@jupyter-widgets/base",
            "top": null,
            "grid_column": null,
            "overflow_y": null,
            "overflow_x": null,
            "grid_auto_flow": null,
            "grid_area": null,
            "grid_template_columns": null,
            "flex": null,
            "_model_name": "LayoutModel",
            "justify_items": null,
            "grid_row": null,
            "max_height": null,
            "align_content": null,
            "visibility": null,
            "align_self": null,
            "height": null,
            "min_height": null,
            "padding": null,
            "grid_auto_rows": null,
            "grid_gap": null,
            "max_width": null,
            "order": null,
            "_view_module_version": "1.2.0",
            "grid_template_areas": null,
            "object_position": null,
            "object_fit": null,
            "grid_auto_columns": null,
            "margin": null,
            "display": null,
            "left": null
          }
        },
        "e3253344f888401d853dca0ff56f803a": {
          "model_module": "@jupyter-widgets/controls",
          "model_name": "HBoxModel",
          "state": {
            "_view_name": "HBoxView",
            "_dom_classes": [],
            "_model_name": "HBoxModel",
            "_view_module": "@jupyter-widgets/controls",
            "_model_module_version": "1.5.0",
            "_view_count": null,
            "_view_module_version": "1.5.0",
            "box_style": "",
            "layout": "IPY_MODEL_584e5bf453c54ad1b7818474c9fb80c2",
            "_model_module": "@jupyter-widgets/controls",
            "children": [
              "IPY_MODEL_b196813f713c47009bb201a68365b8da",
              "IPY_MODEL_9c3e9c5c5ccd4d5ea58598dacb87f034"
            ]
          }
        },
        "584e5bf453c54ad1b7818474c9fb80c2": {
          "model_module": "@jupyter-widgets/base",
          "model_name": "LayoutModel",
          "state": {
            "_view_name": "LayoutView",
            "grid_template_rows": null,
            "right": null,
            "justify_content": null,
            "_view_module": "@jupyter-widgets/base",
            "overflow": null,
            "_model_module_version": "1.2.0",
            "_view_count": null,
            "flex_flow": null,
            "width": null,
            "min_width": null,
            "border": null,
            "align_items": null,
            "bottom": null,
            "_model_module": "@jupyter-widgets/base",
            "top": null,
            "grid_column": null,
            "overflow_y": null,
            "overflow_x": null,
            "grid_auto_flow": null,
            "grid_area": null,
            "grid_template_columns": null,
            "flex": null,
            "_model_name": "LayoutModel",
            "justify_items": null,
            "grid_row": null,
            "max_height": null,
            "align_content": null,
            "visibility": null,
            "align_self": null,
            "height": null,
            "min_height": null,
            "padding": null,
            "grid_auto_rows": null,
            "grid_gap": null,
            "max_width": null,
            "order": null,
            "_view_module_version": "1.2.0",
            "grid_template_areas": null,
            "object_position": null,
            "object_fit": null,
            "grid_auto_columns": null,
            "margin": null,
            "display": null,
            "left": null
          }
        },
        "b196813f713c47009bb201a68365b8da": {
          "model_module": "@jupyter-widgets/controls",
          "model_name": "FloatProgressModel",
          "state": {
            "_view_name": "ProgressView",
            "style": "IPY_MODEL_7f4535096a52481ba71d3800c6669651",
            "_dom_classes": [],
            "description": "Downloading: 100%",
            "_model_name": "FloatProgressModel",
            "bar_style": "success",
            "max": 895731,
            "_view_module": "@jupyter-widgets/controls",
            "_model_module_version": "1.5.0",
            "value": 895731,
            "_view_count": null,
            "_view_module_version": "1.5.0",
            "orientation": "horizontal",
            "min": 0,
            "description_tooltip": null,
            "_model_module": "@jupyter-widgets/controls",
            "layout": "IPY_MODEL_31f1faef94d44d60b3827fe55c3ff86b"
          }
        },
        "9c3e9c5c5ccd4d5ea58598dacb87f034": {
          "model_module": "@jupyter-widgets/controls",
          "model_name": "HTMLModel",
          "state": {
            "_view_name": "HTMLView",
            "style": "IPY_MODEL_233ffe9385b84706baec1d24a4c1b616",
            "_dom_classes": [],
            "description": "",
            "_model_name": "HTMLModel",
            "placeholder": "​",
            "_view_module": "@jupyter-widgets/controls",
            "_model_module_version": "1.5.0",
            "value": " 896k/896k [00:00&lt;00:00, 4.98MB/s]",
            "_view_count": null,
            "_view_module_version": "1.5.0",
            "description_tooltip": null,
            "_model_module": "@jupyter-widgets/controls",
            "layout": "IPY_MODEL_85fb4f27c2194cc999991d32d6ebd5d1"
          }
        },
        "7f4535096a52481ba71d3800c6669651": {
          "model_module": "@jupyter-widgets/controls",
          "model_name": "ProgressStyleModel",
          "state": {
            "_view_name": "StyleView",
            "_model_name": "ProgressStyleModel",
            "description_width": "initial",
            "_view_module": "@jupyter-widgets/base",
            "_model_module_version": "1.5.0",
            "_view_count": null,
            "_view_module_version": "1.2.0",
            "bar_color": null,
            "_model_module": "@jupyter-widgets/controls"
          }
        },
        "31f1faef94d44d60b3827fe55c3ff86b": {
          "model_module": "@jupyter-widgets/base",
          "model_name": "LayoutModel",
          "state": {
            "_view_name": "LayoutView",
            "grid_template_rows": null,
            "right": null,
            "justify_content": null,
            "_view_module": "@jupyter-widgets/base",
            "overflow": null,
            "_model_module_version": "1.2.0",
            "_view_count": null,
            "flex_flow": null,
            "width": null,
            "min_width": null,
            "border": null,
            "align_items": null,
            "bottom": null,
            "_model_module": "@jupyter-widgets/base",
            "top": null,
            "grid_column": null,
            "overflow_y": null,
            "overflow_x": null,
            "grid_auto_flow": null,
            "grid_area": null,
            "grid_template_columns": null,
            "flex": null,
            "_model_name": "LayoutModel",
            "justify_items": null,
            "grid_row": null,
            "max_height": null,
            "align_content": null,
            "visibility": null,
            "align_self": null,
            "height": null,
            "min_height": null,
            "padding": null,
            "grid_auto_rows": null,
            "grid_gap": null,
            "max_width": null,
            "order": null,
            "_view_module_version": "1.2.0",
            "grid_template_areas": null,
            "object_position": null,
            "object_fit": null,
            "grid_auto_columns": null,
            "margin": null,
            "display": null,
            "left": null
          }
        },
        "233ffe9385b84706baec1d24a4c1b616": {
          "model_module": "@jupyter-widgets/controls",
          "model_name": "DescriptionStyleModel",
          "state": {
            "_view_name": "StyleView",
            "_model_name": "DescriptionStyleModel",
            "description_width": "",
            "_view_module": "@jupyter-widgets/base",
            "_model_module_version": "1.5.0",
            "_view_count": null,
            "_view_module_version": "1.2.0",
            "_model_module": "@jupyter-widgets/controls"
          }
        },
        "85fb4f27c2194cc999991d32d6ebd5d1": {
          "model_module": "@jupyter-widgets/base",
          "model_name": "LayoutModel",
          "state": {
            "_view_name": "LayoutView",
            "grid_template_rows": null,
            "right": null,
            "justify_content": null,
            "_view_module": "@jupyter-widgets/base",
            "overflow": null,
            "_model_module_version": "1.2.0",
            "_view_count": null,
            "flex_flow": null,
            "width": null,
            "min_width": null,
            "border": null,
            "align_items": null,
            "bottom": null,
            "_model_module": "@jupyter-widgets/base",
            "top": null,
            "grid_column": null,
            "overflow_y": null,
            "overflow_x": null,
            "grid_auto_flow": null,
            "grid_area": null,
            "grid_template_columns": null,
            "flex": null,
            "_model_name": "LayoutModel",
            "justify_items": null,
            "grid_row": null,
            "max_height": null,
            "align_content": null,
            "visibility": null,
            "align_self": null,
            "height": null,
            "min_height": null,
            "padding": null,
            "grid_auto_rows": null,
            "grid_gap": null,
            "max_width": null,
            "order": null,
            "_view_module_version": "1.2.0",
            "grid_template_areas": null,
            "object_position": null,
            "object_fit": null,
            "grid_auto_columns": null,
            "margin": null,
            "display": null,
            "left": null
          }
        },
        "ee3fae7316754a29bf1b0850f9b0ebc2": {
          "model_module": "@jupyter-widgets/controls",
          "model_name": "HBoxModel",
          "state": {
            "_view_name": "HBoxView",
            "_dom_classes": [],
            "_model_name": "HBoxModel",
            "_view_module": "@jupyter-widgets/controls",
            "_model_module_version": "1.5.0",
            "_view_count": null,
            "_view_module_version": "1.5.0",
            "box_style": "",
            "layout": "IPY_MODEL_46e0f916427c434c8ac70eda449fa603",
            "_model_module": "@jupyter-widgets/controls",
            "children": [
              "IPY_MODEL_5e7c2b23eee4489b8e195ca18513540a",
              "IPY_MODEL_ad113c4ca5574bb591c8d41bbd497fe7"
            ]
          }
        },
        "46e0f916427c434c8ac70eda449fa603": {
          "model_module": "@jupyter-widgets/base",
          "model_name": "LayoutModel",
          "state": {
            "_view_name": "LayoutView",
            "grid_template_rows": null,
            "right": null,
            "justify_content": null,
            "_view_module": "@jupyter-widgets/base",
            "overflow": null,
            "_model_module_version": "1.2.0",
            "_view_count": null,
            "flex_flow": null,
            "width": null,
            "min_width": null,
            "border": null,
            "align_items": null,
            "bottom": null,
            "_model_module": "@jupyter-widgets/base",
            "top": null,
            "grid_column": null,
            "overflow_y": null,
            "overflow_x": null,
            "grid_auto_flow": null,
            "grid_area": null,
            "grid_template_columns": null,
            "flex": null,
            "_model_name": "LayoutModel",
            "justify_items": null,
            "grid_row": null,
            "max_height": null,
            "align_content": null,
            "visibility": null,
            "align_self": null,
            "height": null,
            "min_height": null,
            "padding": null,
            "grid_auto_rows": null,
            "grid_gap": null,
            "max_width": null,
            "order": null,
            "_view_module_version": "1.2.0",
            "grid_template_areas": null,
            "object_position": null,
            "object_fit": null,
            "grid_auto_columns": null,
            "margin": null,
            "display": null,
            "left": null
          }
        },
        "5e7c2b23eee4489b8e195ca18513540a": {
          "model_module": "@jupyter-widgets/controls",
          "model_name": "FloatProgressModel",
          "state": {
            "_view_name": "ProgressView",
            "style": "IPY_MODEL_4f51bd0797e64b5d97e20dc5a93a30b3",
            "_dom_classes": [],
            "description": "Downloading: 100%",
            "_model_name": "FloatProgressModel",
            "bar_style": "success",
            "max": 28,
            "_view_module": "@jupyter-widgets/controls",
            "_model_module_version": "1.5.0",
            "value": 28,
            "_view_count": null,
            "_view_module_version": "1.5.0",
            "orientation": "horizontal",
            "min": 0,
            "description_tooltip": null,
            "_model_module": "@jupyter-widgets/controls",
            "layout": "IPY_MODEL_888c656298d84183a893b3704b3125b0"
          }
        },
        "ad113c4ca5574bb591c8d41bbd497fe7": {
          "model_module": "@jupyter-widgets/controls",
          "model_name": "HTMLModel",
          "state": {
            "_view_name": "HTMLView",
            "style": "IPY_MODEL_d46babb51cfa47aba2af8882d2c088e9",
            "_dom_classes": [],
            "description": "",
            "_model_name": "HTMLModel",
            "placeholder": "​",
            "_view_module": "@jupyter-widgets/controls",
            "_model_module_version": "1.5.0",
            "value": " 28.0/28.0 [00:00&lt;00:00, 169B/s]",
            "_view_count": null,
            "_view_module_version": "1.5.0",
            "description_tooltip": null,
            "_model_module": "@jupyter-widgets/controls",
            "layout": "IPY_MODEL_5b2211bd1fa14e3f984e41ae350059da"
          }
        },
        "4f51bd0797e64b5d97e20dc5a93a30b3": {
          "model_module": "@jupyter-widgets/controls",
          "model_name": "ProgressStyleModel",
          "state": {
            "_view_name": "StyleView",
            "_model_name": "ProgressStyleModel",
            "description_width": "initial",
            "_view_module": "@jupyter-widgets/base",
            "_model_module_version": "1.5.0",
            "_view_count": null,
            "_view_module_version": "1.2.0",
            "bar_color": null,
            "_model_module": "@jupyter-widgets/controls"
          }
        },
        "888c656298d84183a893b3704b3125b0": {
          "model_module": "@jupyter-widgets/base",
          "model_name": "LayoutModel",
          "state": {
            "_view_name": "LayoutView",
            "grid_template_rows": null,
            "right": null,
            "justify_content": null,
            "_view_module": "@jupyter-widgets/base",
            "overflow": null,
            "_model_module_version": "1.2.0",
            "_view_count": null,
            "flex_flow": null,
            "width": null,
            "min_width": null,
            "border": null,
            "align_items": null,
            "bottom": null,
            "_model_module": "@jupyter-widgets/base",
            "top": null,
            "grid_column": null,
            "overflow_y": null,
            "overflow_x": null,
            "grid_auto_flow": null,
            "grid_area": null,
            "grid_template_columns": null,
            "flex": null,
            "_model_name": "LayoutModel",
            "justify_items": null,
            "grid_row": null,
            "max_height": null,
            "align_content": null,
            "visibility": null,
            "align_self": null,
            "height": null,
            "min_height": null,
            "padding": null,
            "grid_auto_rows": null,
            "grid_gap": null,
            "max_width": null,
            "order": null,
            "_view_module_version": "1.2.0",
            "grid_template_areas": null,
            "object_position": null,
            "object_fit": null,
            "grid_auto_columns": null,
            "margin": null,
            "display": null,
            "left": null
          }
        },
        "d46babb51cfa47aba2af8882d2c088e9": {
          "model_module": "@jupyter-widgets/controls",
          "model_name": "DescriptionStyleModel",
          "state": {
            "_view_name": "StyleView",
            "_model_name": "DescriptionStyleModel",
            "description_width": "",
            "_view_module": "@jupyter-widgets/base",
            "_model_module_version": "1.5.0",
            "_view_count": null,
            "_view_module_version": "1.2.0",
            "_model_module": "@jupyter-widgets/controls"
          }
        },
        "5b2211bd1fa14e3f984e41ae350059da": {
          "model_module": "@jupyter-widgets/base",
          "model_name": "LayoutModel",
          "state": {
            "_view_name": "LayoutView",
            "grid_template_rows": null,
            "right": null,
            "justify_content": null,
            "_view_module": "@jupyter-widgets/base",
            "overflow": null,
            "_model_module_version": "1.2.0",
            "_view_count": null,
            "flex_flow": null,
            "width": null,
            "min_width": null,
            "border": null,
            "align_items": null,
            "bottom": null,
            "_model_module": "@jupyter-widgets/base",
            "top": null,
            "grid_column": null,
            "overflow_y": null,
            "overflow_x": null,
            "grid_auto_flow": null,
            "grid_area": null,
            "grid_template_columns": null,
            "flex": null,
            "_model_name": "LayoutModel",
            "justify_items": null,
            "grid_row": null,
            "max_height": null,
            "align_content": null,
            "visibility": null,
            "align_self": null,
            "height": null,
            "min_height": null,
            "padding": null,
            "grid_auto_rows": null,
            "grid_gap": null,
            "max_width": null,
            "order": null,
            "_view_module_version": "1.2.0",
            "grid_template_areas": null,
            "object_position": null,
            "object_fit": null,
            "grid_auto_columns": null,
            "margin": null,
            "display": null,
            "left": null
          }
        }
      }
    }
  },
  "cells": [
    {
      "cell_type": "code",
      "metadata": {
        "colab": {
          "base_uri": "https://localhost:8080/"
        },
        "id": "ZsCY9aAOzohU",
        "outputId": "3ed752d5-fa75-4d8a-a417-712cb5571cc0"
      },
      "source": [
        "!pip install transformers==4.5.0.\n",
        "!pip install torch==1.8.0.\n",
        "from transformers import FlaubertTokenizer, FlaubertModel\n",
        "import torch"
      ],
      "execution_count": 1,
      "outputs": [
        {
          "output_type": "stream",
          "text": [
            "Collecting transformers==4.5.0.\n",
            "  Using cached https://files.pythonhosted.org/packages/81/91/61d69d58a1af1bd81d9ca9d62c90a6de3ab80d77f27c5df65d9a2c1f5626/transformers-4.5.0-py3-none-any.whl\n",
            "Collecting sacremoses\n",
            "\u001b[?25l  Downloading https://files.pythonhosted.org/packages/75/ee/67241dc87f266093c533a2d4d3d69438e57d7a90abb216fa076e7d475d4a/sacremoses-0.0.45-py3-none-any.whl (895kB)\n",
            "\u001b[K     |████████████████████████████████| 901kB 16.7MB/s \n",
            "\u001b[?25hRequirement already satisfied: tqdm>=4.27 in /usr/local/lib/python3.7/dist-packages (from transformers==4.5.0.) (4.41.1)\n",
            "Requirement already satisfied: numpy>=1.17 in /usr/local/lib/python3.7/dist-packages (from transformers==4.5.0.) (1.19.5)\n",
            "Requirement already satisfied: regex!=2019.12.17 in /usr/local/lib/python3.7/dist-packages (from transformers==4.5.0.) (2019.12.20)\n",
            "Requirement already satisfied: packaging in /usr/local/lib/python3.7/dist-packages (from transformers==4.5.0.) (20.9)\n",
            "Requirement already satisfied: filelock in /usr/local/lib/python3.7/dist-packages (from transformers==4.5.0.) (3.0.12)\n",
            "Requirement already satisfied: requests in /usr/local/lib/python3.7/dist-packages (from transformers==4.5.0.) (2.23.0)\n",
            "Collecting tokenizers<0.11,>=0.10.1\n",
            "  Using cached https://files.pythonhosted.org/packages/ae/04/5b870f26a858552025a62f1649c20d29d2672c02ff3c3fb4c688ca46467a/tokenizers-0.10.2-cp37-cp37m-manylinux2010_x86_64.whl\n",
            "Requirement already satisfied: importlib-metadata; python_version < \"3.8\" in /usr/local/lib/python3.7/dist-packages (from transformers==4.5.0.) (3.10.1)\n",
            "Requirement already satisfied: six in /usr/local/lib/python3.7/dist-packages (from sacremoses->transformers==4.5.0.) (1.15.0)\n",
            "Requirement already satisfied: click in /usr/local/lib/python3.7/dist-packages (from sacremoses->transformers==4.5.0.) (7.1.2)\n",
            "Requirement already satisfied: joblib in /usr/local/lib/python3.7/dist-packages (from sacremoses->transformers==4.5.0.) (1.0.1)\n",
            "Requirement already satisfied: pyparsing>=2.0.2 in /usr/local/lib/python3.7/dist-packages (from packaging->transformers==4.5.0.) (2.4.7)\n",
            "Requirement already satisfied: certifi>=2017.4.17 in /usr/local/lib/python3.7/dist-packages (from requests->transformers==4.5.0.) (2020.12.5)\n",
            "Requirement already satisfied: idna<3,>=2.5 in /usr/local/lib/python3.7/dist-packages (from requests->transformers==4.5.0.) (2.10)\n",
            "Requirement already satisfied: chardet<4,>=3.0.2 in /usr/local/lib/python3.7/dist-packages (from requests->transformers==4.5.0.) (3.0.4)\n",
            "Requirement already satisfied: urllib3!=1.25.0,!=1.25.1,<1.26,>=1.21.1 in /usr/local/lib/python3.7/dist-packages (from requests->transformers==4.5.0.) (1.24.3)\n",
            "Requirement already satisfied: zipp>=0.5 in /usr/local/lib/python3.7/dist-packages (from importlib-metadata; python_version < \"3.8\"->transformers==4.5.0.) (3.4.1)\n",
            "Requirement already satisfied: typing-extensions>=3.6.4; python_version < \"3.8\" in /usr/local/lib/python3.7/dist-packages (from importlib-metadata; python_version < \"3.8\"->transformers==4.5.0.) (3.7.4.3)\n",
            "Installing collected packages: sacremoses, tokenizers, transformers\n",
            "Successfully installed sacremoses-0.0.45 tokenizers-0.10.2 transformers-4.5.0\n",
            "Collecting torch==1.8.0.\n",
            "\u001b[?25l  Downloading https://files.pythonhosted.org/packages/94/99/5861239a6e1ffe66e120f114a4d67e96e5c4b17c1a785dfc6ca6769585fc/torch-1.8.0-cp37-cp37m-manylinux1_x86_64.whl (735.5MB)\n",
            "\u001b[K     |████████████████████████████████| 735.5MB 15kB/s \n",
            "\u001b[?25hRequirement already satisfied: numpy in /usr/local/lib/python3.7/dist-packages (from torch==1.8.0.) (1.19.5)\n",
            "Requirement already satisfied: typing-extensions in /usr/local/lib/python3.7/dist-packages (from torch==1.8.0.) (3.7.4.3)\n",
            "\u001b[31mERROR: torchvision 0.9.1+cu101 has requirement torch==1.8.1, but you'll have torch 1.8.0 which is incompatible.\u001b[0m\n",
            "\u001b[31mERROR: torchtext 0.9.1 has requirement torch==1.8.1, but you'll have torch 1.8.0 which is incompatible.\u001b[0m\n",
            "Installing collected packages: torch\n",
            "  Found existing installation: torch 1.8.1+cu101\n",
            "    Uninstalling torch-1.8.1+cu101:\n",
            "      Successfully uninstalled torch-1.8.1+cu101\n",
            "Successfully installed torch-1.8.0\n"
          ],
          "name": "stdout"
        }
      ]
    },
    {
      "cell_type": "code",
      "metadata": {
        "colab": {
          "base_uri": "https://localhost:8080/",
          "height": 262,
          "referenced_widgets": [
            "ef9d8a23e8834b7184288da1f53e67a2",
            "14a3626127224d1ca2bfb5a493abb8d4",
            "02edb9b6c8d94dfa9b768eab6939653e",
            "c25a5b48a8f4439da73ae07fdd8f03bd",
            "c71ef885d3f6487a8db660b45804d65e",
            "a51e627b324147db89e59badc186e2cb",
            "f0f9eeddd5ed4e06af41cff252d6cea1",
            "1c9b7355f3de49f8a2981c6019723932",
            "9b406335ee914de38164aaee36644302",
            "28580c02ec124d88904f2f4a3205038b",
            "f3f3dbe35e0e49d5bae292cba54b5400",
            "5ae9c96a29074a80a79a6bfe695dc777",
            "ffb8b076ccef424a8755657ed9b6fed3",
            "c7dfafaa458444428c8eb3cd47010c70",
            "96061a16696e43529eac63e6e3d3c601",
            "75b29fefca1d436d95d4f8d542f92da1",
            "9c77e25cbad1460793fd04c588ec88aa",
            "333f0453cd7d444c812b13369c41ee03",
            "6e1d42ce70e14d31a469f893dc3a2f01",
            "37a2bd5d660140e3b398d723c5050314",
            "b3ee5121ce584cfaa50973bb1e16bba2",
            "804819dbe752425b8ef08d2b9de58029",
            "fab1a697e5e347199d028fe19b7bfcf8",
            "1eb745d937b344abb7ce745610f62103",
            "e3253344f888401d853dca0ff56f803a",
            "584e5bf453c54ad1b7818474c9fb80c2",
            "b196813f713c47009bb201a68365b8da",
            "9c3e9c5c5ccd4d5ea58598dacb87f034",
            "7f4535096a52481ba71d3800c6669651",
            "31f1faef94d44d60b3827fe55c3ff86b",
            "233ffe9385b84706baec1d24a4c1b616",
            "85fb4f27c2194cc999991d32d6ebd5d1",
            "ee3fae7316754a29bf1b0850f9b0ebc2",
            "46e0f916427c434c8ac70eda449fa603",
            "5e7c2b23eee4489b8e195ca18513540a",
            "ad113c4ca5574bb591c8d41bbd497fe7",
            "4f51bd0797e64b5d97e20dc5a93a30b3",
            "888c656298d84183a893b3704b3125b0",
            "d46babb51cfa47aba2af8882d2c088e9",
            "5b2211bd1fa14e3f984e41ae350059da"
          ]
        },
        "id": "5i1ADxaQzy_b",
        "outputId": "02bd5d93-10e1-43c4-db75-e01b6a0581c3"
      },
      "source": [
        "# Downloading and loading the pre-trained model and tokenizer\n",
        "model = FlaubertModel.from_pretrained('flaubert/flaubert_base_cased')\n",
        "tokenizer = FlaubertTokenizer.from_pretrained('flaubert/flaubert_base_cased')"
      ],
      "execution_count": 2,
      "outputs": [
        {
          "output_type": "display_data",
          "data": {
            "application/vnd.jupyter.widget-view+json": {
              "model_id": "ef9d8a23e8834b7184288da1f53e67a2",
              "version_minor": 0,
              "version_major": 2
            },
            "text/plain": [
              "HBox(children=(FloatProgress(value=0.0, description='Downloading', max=1496.0, style=ProgressStyle(description…"
            ]
          },
          "metadata": {
            "tags": []
          }
        },
        {
          "output_type": "stream",
          "text": [
            "\n"
          ],
          "name": "stdout"
        },
        {
          "output_type": "display_data",
          "data": {
            "application/vnd.jupyter.widget-view+json": {
              "model_id": "9b406335ee914de38164aaee36644302",
              "version_minor": 0,
              "version_major": 2
            },
            "text/plain": [
              "HBox(children=(FloatProgress(value=0.0, description='Downloading', max=553238687.0, style=ProgressStyle(descri…"
            ]
          },
          "metadata": {
            "tags": []
          }
        },
        {
          "output_type": "stream",
          "text": [
            "\n"
          ],
          "name": "stdout"
        },
        {
          "output_type": "display_data",
          "data": {
            "application/vnd.jupyter.widget-view+json": {
              "model_id": "9c77e25cbad1460793fd04c588ec88aa",
              "version_minor": 0,
              "version_major": 2
            },
            "text/plain": [
              "HBox(children=(FloatProgress(value=0.0, description='Downloading', max=1561415.0, style=ProgressStyle(descript…"
            ]
          },
          "metadata": {
            "tags": []
          }
        },
        {
          "output_type": "stream",
          "text": [
            "\n"
          ],
          "name": "stdout"
        },
        {
          "output_type": "display_data",
          "data": {
            "application/vnd.jupyter.widget-view+json": {
              "model_id": "e3253344f888401d853dca0ff56f803a",
              "version_minor": 0,
              "version_major": 2
            },
            "text/plain": [
              "HBox(children=(FloatProgress(value=0.0, description='Downloading', max=895731.0, style=ProgressStyle(descripti…"
            ]
          },
          "metadata": {
            "tags": []
          }
        },
        {
          "output_type": "stream",
          "text": [
            "\n"
          ],
          "name": "stdout"
        },
        {
          "output_type": "display_data",
          "data": {
            "application/vnd.jupyter.widget-view+json": {
              "model_id": "ee3fae7316754a29bf1b0850f9b0ebc2",
              "version_minor": 0,
              "version_major": 2
            },
            "text/plain": [
              "HBox(children=(FloatProgress(value=0.0, description='Downloading', max=28.0, style=ProgressStyle(description_w…"
            ]
          },
          "metadata": {
            "tags": []
          }
        },
        {
          "output_type": "stream",
          "text": [
            "\n"
          ],
          "name": "stdout"
        }
      ]
    },
    {
      "cell_type": "code",
      "metadata": {
        "id": "W1Dc0CJ10BX_"
      },
      "source": [
        "# French sentence\n",
        "sentence = \"Paris est ma ville préférée\""
      ],
      "execution_count": 3,
      "outputs": []
    },
    {
      "cell_type": "code",
      "metadata": {
        "id": "5Nu1i_Cw0E2U"
      },
      "source": [
        "# tokenizing the sentence and getting the token ids\n",
        "token_ids = tokenizer.encode(sentence)"
      ],
      "execution_count": 4,
      "outputs": []
    },
    {
      "cell_type": "code",
      "metadata": {
        "id": "m-G45ezp0E-q"
      },
      "source": [
        "# Converting token ids to torch tensors\n",
        "token_ids = torch.tensor(token_ids).unsqueeze(0)"
      ],
      "execution_count": 5,
      "outputs": []
    },
    {
      "cell_type": "code",
      "metadata": {
        "id": "pbf1MQpX0Hj1"
      },
      "source": [
        "# Obtaining the representation of each token in the input sentences\n",
        "representation = model(token_ids)[0]"
      ],
      "execution_count": 6,
      "outputs": []
    },
    {
      "cell_type": "code",
      "metadata": {
        "colab": {
          "base_uri": "https://localhost:8080/"
        },
        "id": "R9-atGxt0Hm6",
        "outputId": "37957cb9-3fc6-4da4-c1f6-c8dca3f30160"
      },
      "source": [
        "representation.shape"
      ],
      "execution_count": 7,
      "outputs": [
        {
          "output_type": "execute_result",
          "data": {
            "text/plain": [
              "torch.Size([1, 7, 768])"
            ]
          },
          "metadata": {
            "tags": []
          },
          "execution_count": 7
        }
      ]
    },
    {
      "cell_type": "code",
      "metadata": {
        "id": "VSL9N0wh0J7N"
      },
      "source": [
        "# [CLS] token holds the aggregate the reprsentation of the input sentences\n",
        "cls_rep = representation[:, 0, :]"
      ],
      "execution_count": 8,
      "outputs": []
    },
    {
      "cell_type": "code",
      "metadata": {
        "colab": {
          "base_uri": "https://localhost:8080/"
        },
        "id": "KKaqnnfs03qo",
        "outputId": "6bdc4534-a729-490e-8b5d-2a7df5e78302"
      },
      "source": [
        "cls_rep"
      ],
      "execution_count": 9,
      "outputs": [
        {
          "output_type": "execute_result",
          "data": {
            "text/plain": [
              "tensor([[ 3.7431e-01,  7.0344e-01, -1.4248e+00, -3.0822e-01, -5.1327e-01,\n",
              "          8.9848e-01,  5.9578e-02,  1.6344e+00, -1.6329e-01, -1.0066e+00,\n",
              "         -3.2496e-01,  3.9964e-01,  2.9122e+00, -1.7734e-01,  3.0288e-01,\n",
              "          1.9763e-01,  7.2496e-01, -4.1230e-02,  1.4672e+00,  8.0274e-02,\n",
              "         -8.0300e-01, -1.7897e+00,  1.3650e+00,  1.0698e-01,  1.0337e+00,\n",
              "         -2.9029e-01, -5.9500e-02, -2.6694e+00, -4.7745e-01, -2.4090e+00,\n",
              "          5.0746e-01,  2.1145e-01,  4.3465e-02, -9.9927e-02,  1.1404e+00,\n",
              "         -3.8951e-01, -9.0814e-01, -3.6629e-01,  1.1304e+00,  4.2427e-01,\n",
              "         -1.3302e+00, -1.1815e+00, -2.1618e+00, -6.9324e-01, -2.0092e-01,\n",
              "         -1.6140e-01, -1.0662e+00, -4.8737e-01,  1.2278e-01, -5.2998e-01,\n",
              "         -7.0408e-02,  6.4369e-02, -1.5228e-01,  8.0182e-01,  5.2303e-01,\n",
              "          1.8635e-01, -1.7016e+00,  6.7619e-01,  1.5060e+00, -3.8800e-01,\n",
              "          9.4763e-01, -1.9171e+00, -4.8017e-01, -1.1034e+00, -2.3439e-01,\n",
              "         -1.8349e+00,  5.4555e-01,  1.0062e-02,  5.6905e-01, -6.9340e-02,\n",
              "          1.2825e+00, -1.0257e-01,  1.5200e-01, -6.9182e-01, -6.4839e-01,\n",
              "          1.0933e+00, -1.0301e+00,  6.8354e-01, -4.7978e+00, -6.5904e-03,\n",
              "          6.5160e-01, -9.4852e-01,  4.4606e-01, -9.7720e-01, -4.0482e-01,\n",
              "          4.0094e-01, -5.1286e-01, -7.9393e-01, -1.8286e+00,  1.1624e+00,\n",
              "         -1.6395e+00, -5.3411e-01, -5.8631e-02,  1.4314e-01, -6.8892e-01,\n",
              "          5.9166e-01, -5.5139e-01, -9.1162e-01,  3.6880e-01, -1.2198e+00,\n",
              "         -6.0669e-01, -8.9673e-01, -4.6408e-01,  1.0642e+00, -4.5292e-01,\n",
              "         -1.4964e-01,  2.4245e-01, -3.8966e-01,  6.6410e-01,  4.0975e-01,\n",
              "         -1.3098e-01,  3.1462e-01,  1.0875e+00, -2.9794e-01,  6.5559e-01,\n",
              "          2.2875e-02,  1.6243e+00,  1.0014e+00, -3.4824e-01, -1.4759e+00,\n",
              "         -8.3662e-01, -8.9955e-01, -1.4148e+00,  4.8666e-01,  7.5413e-02,\n",
              "          1.8290e-01,  1.0578e+00,  5.6247e-01,  6.5418e-01, -1.1654e+00,\n",
              "         -4.5009e-01,  5.6408e-01, -2.3452e-01,  8.5599e-01, -8.2133e-01,\n",
              "          4.2073e-01, -3.3106e-01,  1.4276e+00, -1.3272e+00, -4.3276e-01,\n",
              "         -2.7241e-02, -1.5676e+00, -3.4606e+00, -4.2316e-01, -1.3446e-01,\n",
              "          1.8376e+00, -1.7411e+00, -1.0849e+00, -2.9456e-01, -1.3069e+00,\n",
              "          4.2220e-01,  3.3357e-01,  2.1245e+00, -1.4741e-02,  7.7957e-02,\n",
              "          2.1354e-01,  7.3845e-01, -1.8448e+00, -1.0032e+00,  6.2725e-01,\n",
              "          4.8915e-01,  7.8154e-01,  1.3972e+00,  5.1991e-01, -4.9787e-01,\n",
              "          1.4250e-01, -4.7118e-01, -3.6761e-01, -1.3672e+00, -1.4727e+00,\n",
              "          4.0794e-01, -1.1915e+00, -5.8412e-01, -2.6698e-01,  2.1926e-02,\n",
              "         -6.6058e-01,  4.5323e-01,  3.3913e-02,  5.4970e-01,  4.9623e-01,\n",
              "         -7.2108e-01, -1.4968e+00, -6.8419e-02,  8.8417e-01,  9.8585e-01,\n",
              "         -1.1099e+00,  6.5363e-01,  7.5831e-01,  9.0411e-01,  7.7232e-01,\n",
              "         -1.8442e+00,  8.3219e-01, -1.6404e+00,  4.9512e-01,  8.1206e-01,\n",
              "         -9.7416e-02,  8.0352e-01, -1.9999e+00,  4.2017e-01,  9.6515e-01,\n",
              "          1.7320e-01, -1.3593e-01, -6.4616e-02, -7.8699e-01, -2.7514e-01,\n",
              "         -8.9601e-01,  4.0791e-01,  1.7009e+00,  1.0220e+00, -1.2395e+00,\n",
              "         -9.7035e-01, -4.7623e-01,  2.0263e+00,  9.7783e-01,  8.6232e-01,\n",
              "         -5.5716e-01, -6.7068e-01, -2.2563e-01, -2.1565e+00, -3.3435e-01,\n",
              "         -4.5853e-01,  1.5981e+00,  1.4583e+00,  8.4628e-01,  4.5193e-01,\n",
              "         -5.6516e-01,  7.5930e-02, -3.8187e-01, -5.7249e-01, -1.4738e+00,\n",
              "          2.0234e-01,  3.2930e-01,  3.4947e-01,  4.3295e-01,  3.6117e-01,\n",
              "         -3.4630e-01, -2.0906e+00, -2.0336e+00,  2.6617e+00,  6.5013e-01,\n",
              "         -9.2995e-01,  1.7799e+00,  7.2241e-01,  1.4520e+00, -1.3797e-01,\n",
              "         -2.3771e+00, -7.5618e-01,  3.9225e-01, -2.9978e-02,  5.9971e-01,\n",
              "          1.5280e-01,  2.2919e+00, -1.4988e+00,  6.0539e-01, -1.7235e-02,\n",
              "          2.7746e-01,  2.0161e+00,  1.8018e-01, -6.3351e-01,  4.2791e-01,\n",
              "          1.6630e-01,  5.7474e-01, -1.9038e+00,  8.3892e-01, -2.8568e-01,\n",
              "          7.4785e-01,  9.5600e-01, -1.3094e+00, -1.7461e+00, -7.0789e-01,\n",
              "         -1.7159e-01, -1.2110e+00, -1.3293e+00,  3.9299e-01,  3.2551e+00,\n",
              "         -1.2645e+00,  4.6533e-01,  1.0790e+00, -4.4041e-01,  4.9397e-02,\n",
              "         -8.1117e-01,  3.4661e-01,  1.7730e+00, -3.8231e-01, -1.6382e+00,\n",
              "          3.7697e-01,  2.0106e+00,  1.5388e+00,  4.8968e-01, -1.7084e+00,\n",
              "         -1.5444e+00, -1.7836e+00, -2.2935e-01, -4.4433e-01, -1.2846e-01,\n",
              "         -3.1155e-01,  2.4730e+00, -1.1284e+00,  2.3091e-01, -2.4518e+00,\n",
              "         -1.9036e+00,  5.8411e-01, -8.1447e-01,  1.5952e+00, -2.7975e-01,\n",
              "         -2.3920e-01, -1.6060e-03, -6.1772e-01, -3.7533e-01, -2.8226e-01,\n",
              "          8.3599e-01, -9.1166e-01,  1.1163e+00,  2.5258e-01, -7.4612e-01,\n",
              "         -1.2502e+00, -5.4315e-01,  1.5105e+00, -1.2713e-02, -1.4726e+00,\n",
              "         -4.2966e-01,  1.1268e-01,  7.3784e-01, -2.7642e-01,  3.3630e-01,\n",
              "         -9.0778e-01, -2.0043e-01,  7.7396e-01,  2.6135e+00, -1.9003e-03,\n",
              "          5.0777e-01, -1.6961e+00,  6.1454e-01, -4.0446e-01,  2.3383e-01,\n",
              "          7.8484e-01,  9.0728e-01, -2.4251e-01, -3.1391e-01,  1.8385e-01,\n",
              "         -1.0271e+00,  3.4131e-01,  8.4664e-01,  2.5595e+00,  1.1287e-01,\n",
              "         -6.5008e-01, -6.6236e-01,  3.1316e+00,  3.1269e-01, -4.6627e-02,\n",
              "          2.3089e-01, -4.1197e-02,  4.7305e-01, -6.9348e-01, -7.0225e-01,\n",
              "         -8.2524e-01, -7.2280e-01,  6.9584e-01, -1.9118e+00, -1.7912e+00,\n",
              "         -1.2010e+00, -5.5056e-01,  1.4863e-01,  5.4546e-01,  1.0085e+00,\n",
              "          6.3372e-01, -8.5872e-01,  7.4340e-01, -3.3640e-01,  6.8817e-02,\n",
              "         -9.8466e-01, -7.4027e-01,  3.0681e-01,  5.5669e-01,  5.0475e-01,\n",
              "         -1.5980e-01, -3.7037e-01, -1.1432e+00, -1.1370e+00,  8.0995e-01,\n",
              "         -9.4231e-01,  8.6603e-01, -5.6319e-02, -3.6876e-01, -9.8796e-01,\n",
              "          3.5405e-02,  1.3035e-01, -1.0666e+00, -7.5008e-01, -4.5668e-01,\n",
              "          4.6654e-01, -5.4176e-01,  2.2333e+00, -1.0605e+00, -2.5644e-01,\n",
              "          7.2881e-01,  5.3100e-01, -9.0454e-01, -3.4196e-01, -8.1349e-01,\n",
              "          1.2414e+00,  1.1951e+00, -8.8876e-02,  3.5865e-01,  6.4122e-01,\n",
              "         -6.5078e-01, -1.1657e+00, -1.5608e+00,  6.0322e-01, -4.6245e-01,\n",
              "          8.3103e-01,  1.3214e+00, -2.0533e+00, -3.3017e-01,  2.1548e-01,\n",
              "         -9.6923e-02, -1.8055e+00,  4.0988e-01,  1.5199e-01, -1.1823e+00,\n",
              "         -4.4299e-01,  4.0487e-02,  8.2689e-01,  6.8915e-01,  1.1705e+00,\n",
              "          5.0349e-01,  1.4871e+00,  1.1051e+00,  7.6461e-01,  1.6183e-01,\n",
              "          1.7152e+00,  1.4716e-01, -1.3053e+00,  1.0698e+00,  9.8742e-01,\n",
              "          2.7125e-01,  1.3773e+00,  9.4870e-01, -1.6613e+00,  5.0150e-01,\n",
              "          9.9309e-01, -8.4407e-01, -2.1541e+00,  2.4617e+00, -4.0410e-02,\n",
              "          2.3613e-01, -1.1363e+00,  1.7405e+00,  5.8131e-01, -2.7043e+00,\n",
              "         -2.2490e-01, -9.5224e-01, -4.4766e-01, -5.2230e-01, -1.1348e+00,\n",
              "         -1.0980e+00,  1.2414e+00,  4.6777e-01, -3.0706e+00,  7.4124e-01,\n",
              "          7.2713e-01,  1.5187e+00, -1.4182e-01,  3.1755e-02, -4.6337e-01,\n",
              "         -1.3393e+00, -3.3090e-01,  2.6402e-01,  3.4157e-01,  3.9150e-01,\n",
              "         -5.9981e-01,  9.9096e-01,  5.8196e-01,  3.7352e-01,  5.2304e-01,\n",
              "         -3.4081e-01,  5.8706e-01, -4.9816e-02, -1.1015e+00,  1.3682e+00,\n",
              "         -5.4685e-01, -1.0875e-01,  2.2602e-01, -1.4160e+00,  4.0868e-01,\n",
              "         -2.7136e-01, -1.3754e+00, -1.0315e+00, -1.0230e+00, -1.0816e+00,\n",
              "          3.3098e-01,  4.3195e-01, -4.8465e-01, -6.8811e-01,  2.7708e-01,\n",
              "         -1.4746e+00,  1.2409e+00, -1.5392e+00,  5.1444e-01,  8.8743e-01,\n",
              "         -1.6099e-01,  2.5082e-01, -6.3082e-01, -6.8591e-01, -8.4333e-02,\n",
              "          3.2765e-01, -1.2707e-01,  3.2952e-01,  1.0038e-01,  7.7287e-01,\n",
              "         -7.8799e-01,  6.6947e-01, -2.7252e-01, -9.7589e-01, -5.7078e-01,\n",
              "         -1.6259e+00, -1.8452e+00, -5.8519e-01,  1.0323e+00, -7.4435e-01,\n",
              "         -7.1724e-01, -1.2675e+00, -4.1726e-01, -9.9853e-01,  1.6140e+00,\n",
              "         -3.6376e-01,  4.9157e-01, -1.9190e+00, -8.0430e-01, -5.8922e-01,\n",
              "         -6.2748e-01, -2.6984e-01, -1.2528e+00,  8.6498e-01, -8.2061e-01,\n",
              "          1.1092e+00,  1.7923e+00, -9.0333e-01,  2.8563e+00,  1.4150e+00,\n",
              "         -1.0495e+00, -4.7605e-01, -7.3316e-01, -3.1535e+00,  1.2131e+00,\n",
              "         -2.1201e+00, -9.3068e-01, -7.8461e-01, -1.5979e-01,  1.1831e+00,\n",
              "         -6.8174e-01,  1.3076e-01, -9.3338e-01,  3.0816e-01,  8.2682e-01,\n",
              "          1.4005e+00, -7.8042e-01, -9.9725e-01,  2.4746e-01, -2.7469e+00,\n",
              "         -4.0364e-03,  5.3134e-01, -3.3442e-01, -3.8760e-01,  1.0823e+00,\n",
              "         -7.6333e-02,  4.3806e-01,  5.2627e-01,  1.2595e-02, -2.5940e-01,\n",
              "          3.9544e-01, -8.3824e-01, -2.1507e-01, -1.7081e+00, -1.6581e+00,\n",
              "          1.3573e+00, -2.2497e-01, -2.1207e-01, -6.4342e-01,  1.2963e-01,\n",
              "          1.2230e+00,  1.1398e+00, -8.4654e-01,  1.4273e+00, -7.2332e-01,\n",
              "          1.0716e+00, -3.8426e-01,  3.9164e-01, -5.1467e-01, -1.6412e+00,\n",
              "         -6.4034e-01, -1.6766e-01,  1.0303e+00, -5.5685e-02, -7.2266e-01,\n",
              "          4.8639e-03, -1.3380e+00,  1.8327e+00, -1.2566e-01, -1.4986e+00,\n",
              "          3.5084e-01, -6.8509e-01, -3.1570e-01, -2.4996e+00, -1.6749e+00,\n",
              "         -5.6970e-01,  3.8197e-03,  5.4772e-01,  1.0245e+00, -2.5261e+00,\n",
              "          8.5674e-02,  1.7760e+00, -1.1154e+00, -1.4355e-01, -1.0387e+00,\n",
              "          2.4879e+00, -2.3422e-01,  2.0671e-01, -1.6074e-01, -7.8400e-01,\n",
              "         -3.4148e-01,  1.0632e+00,  1.0097e+00,  2.9908e-01, -2.2127e+00,\n",
              "          3.0380e+00,  3.0915e-02,  1.8897e+00,  5.6254e-01, -1.1493e-01,\n",
              "         -1.6581e+00, -2.8439e-01, -1.9647e-01, -1.9157e+00,  1.0808e+00,\n",
              "         -6.2581e-01,  5.2385e-01, -1.9039e+00, -4.8324e-01, -5.0805e-01,\n",
              "         -6.7376e-01,  4.8727e-01, -1.3209e+00, -4.0222e-01, -5.5979e-01,\n",
              "          4.7798e-01,  3.1513e-02, -1.2859e+00,  1.8407e-01, -6.6104e-01,\n",
              "          4.8284e-01,  1.4265e-01, -6.1532e-01,  1.3172e-01, -4.0667e-01,\n",
              "         -5.7261e-01,  1.6650e+00, -6.5219e-01,  4.6052e-01,  6.9213e-01,\n",
              "          7.8709e-01,  9.4478e-01, -7.9199e-01,  8.1248e-02,  5.5523e-01,\n",
              "         -6.4361e-01,  2.0968e+00,  3.3645e-01, -1.2603e-01, -1.2043e+00,\n",
              "          8.7365e-02, -8.3084e-01, -5.1065e-01,  7.2008e-01,  1.1247e+00,\n",
              "          2.5678e-01,  7.9169e-01,  2.2199e-01,  2.0627e+00,  1.8516e+00,\n",
              "          3.5835e-01, -4.1994e-02, -2.1384e-01, -4.4598e-02, -1.0445e+00,\n",
              "          1.1253e+00,  4.8064e-01,  2.4211e-01, -7.9570e-01, -5.0434e-01,\n",
              "         -2.5959e-01,  8.8180e-01, -1.3154e+00, -1.8122e-01, -1.3795e+00,\n",
              "          1.7726e+00, -6.7217e-01, -1.2359e+00, -1.5937e+00, -7.5120e-01,\n",
              "         -1.5859e+00,  1.0298e+00, -2.4780e+00,  4.2550e-01, -1.4316e-01,\n",
              "          2.1514e-01, -2.1065e+00, -2.7857e-01,  3.8046e-01,  1.9449e+00,\n",
              "         -1.5783e+00,  2.3725e-01, -2.2464e-01,  9.1171e-01, -4.3663e-01,\n",
              "          3.1046e-01,  1.8311e+00, -1.1176e+00,  2.6482e+00, -2.3773e+00,\n",
              "         -5.4074e-01, -8.5607e-01, -1.2212e+00, -6.8956e-01,  5.4434e-01,\n",
              "         -6.3154e-01, -6.6735e-01, -3.8332e-01, -7.9280e-01,  2.1468e-01,\n",
              "         -1.2578e+00,  1.5648e+00, -1.3817e-01, -5.1193e-01,  8.7089e-01,\n",
              "         -4.8598e-01, -1.9234e+00,  5.6113e-02, -1.4731e+00,  6.5062e-01,\n",
              "         -8.1156e-01,  5.6465e-01,  1.8677e+00,  1.8991e+00, -1.3988e+00,\n",
              "          8.0031e-01, -1.6151e+00, -1.8929e-01,  2.3611e+00,  1.9198e-01,\n",
              "         -2.4155e+00, -7.1743e-01,  8.1153e-01, -2.6445e+00, -6.3588e-01,\n",
              "         -1.0461e+00, -6.1215e-02,  1.1841e+00, -5.5742e-01, -2.6474e-01,\n",
              "         -1.1720e+00, -2.0142e-01, -2.6135e-01, -9.9668e-01, -9.1438e-01,\n",
              "         -5.7338e-01,  4.7375e-01, -5.2893e-01]], grad_fn=<SliceBackward>)"
            ]
          },
          "metadata": {
            "tags": []
          },
          "execution_count": 9
        }
      ]
    },
    {
      "cell_type": "code",
      "metadata": {
        "id": "tV8GKP2A05ld"
      },
      "source": [
        "\"\"\"We uses the pre-trained FlauBERT and obtained the representation for French text. \n",
        "We can also use the pre-trained FlauBERT and fine-tune it for any downstream tasks.\"\"\"\n"
      ],
      "execution_count": null,
      "outputs": []
    }
  ]
}